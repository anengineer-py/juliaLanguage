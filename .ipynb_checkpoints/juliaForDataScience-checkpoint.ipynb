{
 "cells": [
  {
   "cell_type": "markdown",
   "id": "766310c2",
   "metadata": {},
   "source": [
    "# Data"
   ]
  },
  {
   "cell_type": "code",
   "execution_count": null,
   "id": "bd099b98",
   "metadata": {},
   "outputs": [],
   "source": [
    "using BenchmarkTools\n",
    "using DataFrames\n",
    "using DelimitedFiles\n",
    "using CSV\n",
    "using XLSX\n",
    "using Downloads"
   ]
  },
  {
   "cell_type": "code",
   "execution_count": null,
   "id": "574429cb",
   "metadata": {},
   "outputs": [],
   "source": [
    "P = Downloads.download(\"https://raw.githubusercontent.com/nassarhuda/easy_data/master/programming_languages.csv\",\n",
    "    \"programming_languages.csv\")"
   ]
  },
  {
   "cell_type": "code",
   "execution_count": null,
   "id": "12f773c9",
   "metadata": {},
   "outputs": [],
   "source": [
    "P,H = readdlm(\"programming_languages.csv\",',';header=true);"
   ]
  },
  {
   "cell_type": "code",
   "execution_count": null,
   "id": "e88618d1",
   "metadata": {},
   "outputs": [],
   "source": [
    "H"
   ]
  },
  {
   "cell_type": "code",
   "execution_count": null,
   "id": "7e9ca46a",
   "metadata": {},
   "outputs": [],
   "source": [
    "#read CSV Files\n",
    "C = CSV.read(\"programming_languages.csv\", DataFrame);"
   ]
  },
  {
   "cell_type": "code",
   "execution_count": null,
   "id": "fceb7bc9",
   "metadata": {},
   "outputs": [],
   "source": [
    "@show typeof(C)\n",
    "C[1:10,:]\n",
    "#C[!,:year]"
   ]
  },
  {
   "cell_type": "code",
   "execution_count": null,
   "id": "fc4c69d5",
   "metadata": {},
   "outputs": [],
   "source": [
    "@show typeof(P)\n",
    "P[1:10,:]"
   ]
  },
  {
   "cell_type": "code",
   "execution_count": null,
   "id": "d7be20d6",
   "metadata": {},
   "outputs": [],
   "source": [
    "names(C)"
   ]
  },
  {
   "cell_type": "code",
   "execution_count": null,
   "id": "8a24a9f4",
   "metadata": {},
   "outputs": [],
   "source": [
    "names(C)\n",
    "C.year\n",
    "C.language\n",
    "describe(C)"
   ]
  },
  {
   "cell_type": "code",
   "execution_count": null,
   "id": "2a602586",
   "metadata": {},
   "outputs": [],
   "source": [
    "#Benchmark Tools\n",
    "\n",
    "@btime P,H = readdlm(\"programming_languages.csv\",',';header=true);\n",
    "@btime C = CSV.read(\"programming_languages.csv\", DataFrame);"
   ]
  },
  {
   "cell_type": "code",
   "execution_count": null,
   "id": "4fac919a",
   "metadata": {},
   "outputs": [],
   "source": [
    "CSV.write(\"programminglanguages_CSV.csv\", DataFrame(P, :auto))"
   ]
  },
  {
   "cell_type": "code",
   "execution_count": null,
   "id": "13579a31",
   "metadata": {},
   "outputs": [],
   "source": [
    "#read XLSX files\n",
    "\n",
    "# j = XLSX.readdata('File Name.xlsx','Sheet Name','Cell Range')\n",
    "\n",
    "T = XLSX.readdata(\"data/zillow_data_download_april2020.xlsx\",\"Sale_counts_city\",\"A1:F9\")"
   ]
  },
  {
   "cell_type": "code",
   "execution_count": null,
   "id": "79357065",
   "metadata": {},
   "outputs": [],
   "source": [
    "#read Table on XLSX\n",
    "\n",
    "G = XLSX.readtable(\"data/zillow_data_download_april2020.xlsx\",\"Sale_counts_city\");"
   ]
  },
  {
   "cell_type": "code",
   "execution_count": null,
   "id": "e6e296e3",
   "metadata": {},
   "outputs": [],
   "source": [
    "G[1]"
   ]
  },
  {
   "cell_type": "code",
   "execution_count": null,
   "id": "d25fa442",
   "metadata": {},
   "outputs": [],
   "source": [
    "G[1][1][1:10]"
   ]
  },
  {
   "cell_type": "code",
   "execution_count": null,
   "id": "82be710e",
   "metadata": {},
   "outputs": [],
   "source": [
    "G[2][1:10]"
   ]
  },
  {
   "cell_type": "code",
   "execution_count": null,
   "id": "531e0806",
   "metadata": {},
   "outputs": [],
   "source": [
    "D = DataFrame(G...) # equivalent to DataFrame(G[1],G[2])"
   ]
  },
  {
   "cell_type": "code",
   "execution_count": null,
   "id": "91b91d3d",
   "metadata": {},
   "outputs": [],
   "source": [
    "foods = [\"apple\", \"cucumber\", \"tomato\", \"banana\"]\n",
    "calories = [105,47,22,105]\n",
    "prices = [0.85,1.6,0.8,0.6,]\n",
    "dataframe_calories = DataFrame(item=foods,calories=calories)\n",
    "dataframe_prices = DataFrame(item=foods,price=prices)"
   ]
  },
  {
   "cell_type": "code",
   "execution_count": null,
   "id": "5a85d363",
   "metadata": {},
   "outputs": [],
   "source": [
    "DF = innerjoin(dataframe_calories,dataframe_prices,on=:item)"
   ]
  },
  {
   "cell_type": "code",
   "execution_count": null,
   "id": "3c8e3185",
   "metadata": {},
   "outputs": [],
   "source": [
    "DataFrame(T, :auto)"
   ]
  },
  {
   "cell_type": "code",
   "execution_count": null,
   "id": "c11b5ee3",
   "metadata": {},
   "outputs": [],
   "source": [
    "# if you already have a dataframe: \n",
    "# XLSX.writetable(\"filename.xlsx\", collect(DataFrames.eachcol(df)), DataFrames.names(df))\n",
    "XLSX.writetable(\"writefile_using_XLSX.xlsx\",G[1],G[2])"
   ]
  },
  {
   "cell_type": "code",
   "execution_count": null,
   "id": "f9838347",
   "metadata": {},
   "outputs": [],
   "source": [
    "using JLD\n",
    "jld_data = JLD.load(\"data/mytempdata.jld\")\n",
    "save(\"mywrite.jld\", \"A\", jld_data)"
   ]
  },
  {
   "cell_type": "code",
   "execution_count": null,
   "id": "6731fd0b",
   "metadata": {},
   "outputs": [],
   "source": [
    "#read NPZ data\n",
    "\n",
    "using NPZ\n",
    "npz_data = npzread(\"data/mytempdata.npz\")\n",
    "npzwrite(\"mywrite.npz\", npz_data)"
   ]
  },
  {
   "cell_type": "code",
   "execution_count": null,
   "id": "cbb6431e",
   "metadata": {},
   "outputs": [],
   "source": [
    "#read MATLAB Data\n",
    "\n",
    "using MAT\n",
    "Matlab_data = matread(\"data/mytempdata.mat\")\n",
    "matwrite(\"mywrite.mat\",Matlab_data)"
   ]
  },
  {
   "cell_type": "code",
   "execution_count": null,
   "id": "bf153d97",
   "metadata": {
    "scrolled": false
   },
   "outputs": [],
   "source": [
    "#show all Files\n",
    "\n",
    "@show typeof(jld_data)\n",
    "@show typeof(npz_data)\n",
    "@show typeof(Matlab_data)\n",
    ";"
   ]
  },
  {
   "cell_type": "code",
   "execution_count": null,
   "id": "57098e6e",
   "metadata": {},
   "outputs": [],
   "source": [
    "Matlab_data"
   ]
  },
  {
   "cell_type": "code",
   "execution_count": null,
   "id": "7239c0d1",
   "metadata": {
    "scrolled": false
   },
   "outputs": [],
   "source": [
    "P"
   ]
  },
  {
   "cell_type": "code",
   "execution_count": null,
   "id": "26816243",
   "metadata": {},
   "outputs": [],
   "source": [
    "# Q1: Which year was was a given language invented?\n",
    "function year_created(P,language::String)\n",
    "    loc = findfirst(P[:,2] .== language)\n",
    "    return P[loc,1]\n",
    "end\n",
    "year_created(P,\"Julia\")"
   ]
  },
  {
   "cell_type": "code",
   "execution_count": null,
   "id": "9bf6716f",
   "metadata": {
    "scrolled": false
   },
   "outputs": [],
   "source": [
    "year_created(P,\"W\") "
   ]
  },
  {
   "cell_type": "code",
   "execution_count": null,
   "id": "4539e714",
   "metadata": {},
   "outputs": [],
   "source": [
    "function year_created_handle_error(P,language::String)\n",
    "    loc = findfirst(P[:,2] .== language)\n",
    "    !isnothing(loc) && return P[loc,1]\n",
    "    error(\"Error: Language not found.\")\n",
    "end\n",
    "year_created_handle_error(P,\"W\")"
   ]
  },
  {
   "cell_type": "code",
   "execution_count": null,
   "id": "53dd69dd",
   "metadata": {},
   "outputs": [],
   "source": [
    "# Q2: How many languages were created in a given year?\n",
    "\n",
    "function how_many_per_year(P,year::Int64)\n",
    "    year_count = length(findall(P[:,1].==year))\n",
    "    return year_count\n",
    "end\n",
    "how_many_per_year(P,2011)"
   ]
  },
  {
   "cell_type": "code",
   "execution_count": null,
   "id": "116113ba",
   "metadata": {},
   "outputs": [],
   "source": [
    "P_df = C #DataFrame(year = P[:,1], language = P[:,2]) # or DataFrame(P)"
   ]
  },
  {
   "cell_type": "code",
   "execution_count": null,
   "id": "f786d4f0",
   "metadata": {},
   "outputs": [],
   "source": [
    "# Q1: Which year was was a given language invented?\n",
    "# it's a little more intuitive and you don't need to remember the column ids\n",
    "function year_created(P_df,language::String)\n",
    "    loc = findfirst(P_df.language .== language)\n",
    "    return P_df.year[loc]\n",
    "end\n",
    "year_created(P_df,\"Julia\")"
   ]
  },
  {
   "cell_type": "code",
   "execution_count": null,
   "id": "548e7283",
   "metadata": {},
   "outputs": [],
   "source": [
    "year_created(P_df,\"W\")"
   ]
  },
  {
   "cell_type": "code",
   "execution_count": null,
   "id": "02e41bb9",
   "metadata": {},
   "outputs": [],
   "source": [
    "function year_created_handle_error(P_df,language::String)\n",
    "    loc = findfirst(P_df.language .== language)\n",
    "    !isnothing(loc) && return P_df.year[loc]\n",
    "    error(\"Error: Language not found.\")\n",
    "end\n",
    "year_created_handle_error(P_df,\"W\")"
   ]
  },
  {
   "cell_type": "code",
   "execution_count": null,
   "id": "785813ec",
   "metadata": {},
   "outputs": [],
   "source": [
    "# Q2: How many languages were created in a given year?\n",
    "function how_many_per_year(P_df,year::Int64)\n",
    "    year_count = length(findall(P_df.year.==year))\n",
    "    return year_count\n",
    "end\n",
    "how_many_per_year(P_df,2011)"
   ]
  },
  {
   "cell_type": "code",
   "execution_count": null,
   "id": "8e92b1f6",
   "metadata": {},
   "outputs": [],
   "source": [
    "# A quick example to show how to build a dictionary\n",
    "Dict([(\"A\", 1), (\"B\", 2),(1,[1,2])])"
   ]
  },
  {
   "cell_type": "code",
   "execution_count": null,
   "id": "82c95ec5",
   "metadata": {},
   "outputs": [],
   "source": [
    "P_dictionary = Dict{Integer,Vector{String}}()"
   ]
  },
  {
   "cell_type": "code",
   "execution_count": null,
   "id": "be7a83e0",
   "metadata": {},
   "outputs": [],
   "source": [
    "#P_dictionary[67] = [\"julia\",\"programming\"]"
   ]
  },
  {
   "cell_type": "code",
   "execution_count": null,
   "id": "eadc0f96",
   "metadata": {},
   "outputs": [],
   "source": [
    "#this is not gonna work.\n",
    "#P_dictionary[\"julia\"] = 7"
   ]
  },
  {
   "cell_type": "code",
   "execution_count": null,
   "id": "80d846f1",
   "metadata": {},
   "outputs": [],
   "source": [
    "dict = Dict{Integer,Vector{String}}()\n",
    "for i = 1:size(P,1)\n",
    "    year,lang = P[i,:]\n",
    "    if year in keys(dict)\n",
    "        dict[year] = push!(dict[year],lang) \n",
    "        # note that push! is not our favorite thing to do in Julia, \n",
    "        # but we're focusing on correctness rather than speed here\n",
    "    else\n",
    "        dict[year] = [lang]\n",
    "    end\n",
    "end"
   ]
  },
  {
   "cell_type": "code",
   "execution_count": null,
   "id": "78be584c",
   "metadata": {},
   "outputs": [],
   "source": [
    "\n",
    "# Though a smarter way to do this is:\n",
    "curyear = P_df.year[1]\n",
    "P_dictionary[curyear] = [P_df.language[1]]\n",
    "for (i,nextyear) in enumerate(P_df.year[2:end])\n",
    "    if nextyear == curyear\n",
    "        #same key\n",
    "        P_dictionary[curyear] = push!(P_dictionary[curyear],P_df.language[i+1])\n",
    "        # note that push! is not our favorite thing to do in Julia, \n",
    "        # but we're focusing on correctness rather than speed here\n",
    "    else\n",
    "        curyear = nextyear\n",
    "        P_dictionary[curyear] = [P_df.language[i+1]]\n",
    "    end\n",
    "end"
   ]
  },
  {
   "cell_type": "code",
   "execution_count": null,
   "id": "03c6648c",
   "metadata": {},
   "outputs": [],
   "source": [
    "length(keys(P_dictionary))"
   ]
  },
  {
   "cell_type": "code",
   "execution_count": null,
   "id": "f99cee8b",
   "metadata": {},
   "outputs": [],
   "source": [
    "length(unique(P[:,1]))"
   ]
  },
  {
   "cell_type": "code",
   "execution_count": null,
   "id": "d96aa573",
   "metadata": {},
   "outputs": [],
   "source": [
    "\n",
    "# Q1: Which year was was a given language invented?\n",
    "# now instead of looking in one long vector, we will look in many small vectors\n",
    "function year_created(P_dictionary,language::String)\n",
    "    keys_vec = collect(keys(P_dictionary))\n",
    "    lookup = map(keyid -> findfirst(P_dictionary[keyid].==language),keys_vec)\n",
    "    # now the lookup vector has `nothing` or a numeric value. We want to find the index of the numeric value.\n",
    "    return keys_vec[findfirst((!isnothing).(lookup))]\n",
    "end\n",
    "year_created(P_dictionary,\"Julia\")"
   ]
  },
  {
   "cell_type": "code",
   "execution_count": null,
   "id": "89fee8a0",
   "metadata": {},
   "outputs": [],
   "source": [
    "# Q2: How many languages were created in a given year?\n",
    "how_many_per_year(P_dictionary,year::Int64) = length(P_dictionary[year])\n",
    "how_many_per_year(P_dictionary,2011)"
   ]
  },
  {
   "cell_type": "code",
   "execution_count": null,
   "id": "698c2bae",
   "metadata": {},
   "outputs": [],
   "source": [
    "# assume there were missing values in our dataframe\n",
    "P[1,1] = missing\n",
    "P_df = DataFrame(year = P[:,1], language = P[:,2])"
   ]
  },
  {
   "cell_type": "code",
   "execution_count": null,
   "id": "3dfdf519",
   "metadata": {},
   "outputs": [],
   "source": [
    "dropmissing(P_df)"
   ]
  },
  {
   "cell_type": "markdown",
   "id": "777b168b",
   "metadata": {},
   "source": [
    "# Finally...\n",
    "### After finishing this notebook, you should be able to:\n",
    "\n",
    "##### [ ] dowload a data file from the web given a url\n",
    "##### [ ] load data from a file from a text file via DelimitedFiles or CSV\n",
    "##### [ ] write your data to a text file or csv file\n",
    "##### [ ] load data from file types xlsx, jld, npz, mat, rda\n",
    "##### [ ] write your data to an xlsx file, jld, npz, mat, rda\n",
    "##### [ ] store data in a 2D array (Matrix), or DataFrame or Dict\n",
    "##### [ ] write functions to perform basic lookups on Matrix, DataFrame, and Dict types\n",
    "##### [ ] use some of the basic functions on DataFrames such as: dropmissing, describe, by, and join"
   ]
  },
  {
   "cell_type": "markdown",
   "id": "c447cc62",
   "metadata": {},
   "source": [
    "# Lineer Cebir"
   ]
  },
  {
   "cell_type": "markdown",
   "id": "8b6cb54d",
   "metadata": {},
   "source": [
    "A lot of the Data Science methods we will see in this tutorial require some understanding of linear algebra, and in this notebook we will focus on how Julia handles matrices, the types that exist, and how to call basic linear algebra tasks.\n",
    "\n",
    "/////////////////////////////\n",
    "\n",
    "Bu öğreticide göreceğimiz Veri Bilimi yöntemlerinin çoğu, lineer cebir hakkında biraz bilgi sahibi olmayı gerektirir ve bu not defterinde Julia'nın matrisleri nasıl ele aldığına, var olan türlere ve temel lineer cebir görevlerinin nasıl çağrılacağına odaklanacağız."
   ]
  },
  {
   "cell_type": "code",
   "execution_count": null,
   "id": "31be6932",
   "metadata": {},
   "outputs": [],
   "source": [
    "using LinearAlgebra\n",
    "using SparseArrays\n",
    "using Images\n",
    "using MAT"
   ]
  },
  {
   "cell_type": "markdown",
   "id": "d726bfd8",
   "metadata": {},
   "source": [
    "creating a random matrix."
   ]
  },
  {
   "cell_type": "code",
   "execution_count": null,
   "id": "92a446f9",
   "metadata": {},
   "outputs": [],
   "source": [
    "A = rand(10,10);\n",
    "Atranspose = A'\n",
    "A = A*Atranspose;"
   ]
  },
  {
   "cell_type": "code",
   "execution_count": null,
   "id": "01dc735b",
   "metadata": {},
   "outputs": [],
   "source": [
    "@show A[11] == A[1,2];"
   ]
  },
  {
   "cell_type": "code",
   "execution_count": null,
   "id": "a8222739",
   "metadata": {},
   "outputs": [],
   "source": [
    "b = rand(10);\n",
    "x = A\\b;\n",
    "@show norm(A*x-b)\n",
    ";"
   ]
  },
  {
   "cell_type": "code",
   "execution_count": null,
   "id": "88299edd",
   "metadata": {},
   "outputs": [],
   "source": [
    "@show typeof(A)\n",
    "@show typeof(b)\n",
    "@show typeof(rand(1,10))\n",
    "@show typeof(Atranspose)\n",
    ";"
   ]
  },
  {
   "cell_type": "code",
   "execution_count": null,
   "id": "cfb18435",
   "metadata": {},
   "outputs": [],
   "source": [
    "Matrix{Float64} == Array{Float64,2}"
   ]
  },
  {
   "cell_type": "code",
   "execution_count": null,
   "id": "8e2c1998",
   "metadata": {},
   "outputs": [],
   "source": [
    "Vector{Float64} == Array{Float64,1}"
   ]
  },
  {
   "cell_type": "code",
   "execution_count": null,
   "id": "5d235920",
   "metadata": {},
   "outputs": [],
   "source": [
    "Atranspose"
   ]
  },
  {
   "cell_type": "code",
   "execution_count": null,
   "id": "cc42b1af",
   "metadata": {},
   "outputs": [],
   "source": [
    "#?adjoint"
   ]
  },
  {
   "cell_type": "code",
   "execution_count": null,
   "id": "b952253f",
   "metadata": {},
   "outputs": [],
   "source": [
    "luA = lu(A)"
   ]
  },
  {
   "cell_type": "code",
   "execution_count": null,
   "id": "1edb3b52",
   "metadata": {},
   "outputs": [],
   "source": [
    "qrA = qr(A)"
   ]
  },
  {
   "cell_type": "code",
   "execution_count": null,
   "id": "cda2970e",
   "metadata": {},
   "outputs": [],
   "source": [
    "norm(qrA.Q*qrA.R - A)"
   ]
  },
  {
   "cell_type": "code",
   "execution_count": null,
   "id": "e6c8dad7",
   "metadata": {},
   "outputs": [],
   "source": [
    "isposdef(A)"
   ]
  },
  {
   "cell_type": "code",
   "execution_count": null,
   "id": "648af237",
   "metadata": {},
   "outputs": [],
   "source": [
    "cholA = cholesky(A)"
   ]
  },
  {
   "cell_type": "code",
   "execution_count": null,
   "id": "cd341841",
   "metadata": {},
   "outputs": [],
   "source": [
    "norm(cholA.L*cholA.U - A)"
   ]
  },
  {
   "cell_type": "code",
   "execution_count": null,
   "id": "250c7045",
   "metadata": {},
   "outputs": [],
   "source": [
    "cholA.L"
   ]
  },
  {
   "cell_type": "code",
   "execution_count": null,
   "id": "b10040dc",
   "metadata": {},
   "outputs": [],
   "source": [
    "cholA.U"
   ]
  },
  {
   "cell_type": "code",
   "execution_count": null,
   "id": "7e5228b0",
   "metadata": {},
   "outputs": [],
   "source": [
    "factorize(A)"
   ]
  },
  {
   "cell_type": "code",
   "execution_count": null,
   "id": "fa4bd56c",
   "metadata": {},
   "outputs": [],
   "source": [
    "#?factorize"
   ]
  },
  {
   "cell_type": "code",
   "execution_count": null,
   "id": "6955a9f3",
   "metadata": {},
   "outputs": [],
   "source": [
    "Diagonal([1,2,3])"
   ]
  },
  {
   "cell_type": "code",
   "execution_count": null,
   "id": "2421f862",
   "metadata": {},
   "outputs": [],
   "source": [
    "I(3)"
   ]
  },
  {
   "cell_type": "code",
   "execution_count": null,
   "id": "b26b6944",
   "metadata": {},
   "outputs": [],
   "source": [
    "using SparseArrays\n",
    "S = sprand(5,5,2/5)"
   ]
  },
  {
   "cell_type": "code",
   "execution_count": null,
   "id": "ebe6c6d3",
   "metadata": {},
   "outputs": [],
   "source": [
    "S.rowval"
   ]
  },
  {
   "cell_type": "code",
   "execution_count": null,
   "id": "9b091f00",
   "metadata": {},
   "outputs": [],
   "source": [
    "Matrix(S)"
   ]
  },
  {
   "cell_type": "code",
   "execution_count": null,
   "id": "8f228a44",
   "metadata": {},
   "outputs": [],
   "source": [
    "S.colptr"
   ]
  },
  {
   "cell_type": "code",
   "execution_count": null,
   "id": "218c7185",
   "metadata": {},
   "outputs": [],
   "source": [
    "S.m"
   ]
  },
  {
   "cell_type": "code",
   "execution_count": null,
   "id": "e7575b5b",
   "metadata": {},
   "outputs": [],
   "source": [
    "X1 = load(\"data/khiam-small.jpg\")"
   ]
  },
  {
   "cell_type": "code",
   "execution_count": null,
   "id": "780fe76e",
   "metadata": {},
   "outputs": [],
   "source": [
    "@show typeof(X1)\n",
    "X1[1,1] # this is pixel [1,1]"
   ]
  },
  {
   "cell_type": "code",
   "execution_count": null,
   "id": "7a96dc4e",
   "metadata": {},
   "outputs": [],
   "source": [
    "Xgray = Gray.(X1)"
   ]
  },
  {
   "cell_type": "code",
   "execution_count": null,
   "id": "21f72cc9",
   "metadata": {},
   "outputs": [],
   "source": [
    "R = map(i->X1[i].r,1:length(X1))\n",
    "R = Float64.(reshape(R,size(X1)...))\n",
    "\n",
    "G = map(i->X1[i].g,1:length(X1))\n",
    "G = Float64.(reshape(G,size(X1)...))\n",
    "\n",
    "B = map(i->X1[i].b,1:length(X1))\n",
    "B = Float64.(reshape(B,size(X1)...))\n",
    ";"
   ]
  },
  {
   "cell_type": "code",
   "execution_count": null,
   "id": "4742b5da",
   "metadata": {},
   "outputs": [],
   "source": [
    "Z = zeros(size(R)...) # just a matrix of all zeros of equal size as the image\n",
    "RGB.(Z,G,Z)"
   ]
  },
  {
   "cell_type": "code",
   "execution_count": null,
   "id": "f926c310",
   "metadata": {},
   "outputs": [],
   "source": [
    "Xgrayvalues = Float64.(Xgray)"
   ]
  },
  {
   "cell_type": "code",
   "execution_count": null,
   "id": "0677904d",
   "metadata": {},
   "outputs": [],
   "source": [
    "SVD_V = svd(Xgrayvalues)"
   ]
  },
  {
   "cell_type": "code",
   "execution_count": null,
   "id": "05a883e9",
   "metadata": {},
   "outputs": [],
   "source": [
    "norm(SVD_V.U*diagm(SVD_V.S)*SVD_V.V' - Xgrayvalues)"
   ]
  },
  {
   "cell_type": "code",
   "execution_count": null,
   "id": "074aa3e6",
   "metadata": {},
   "outputs": [],
   "source": [
    "# use the top 4 singular vectors/values to form a new image\n",
    "u1 = SVD_V.U[:,1]\n",
    "v1 = SVD_V.V[:,1]\n",
    "img1 = SVD_V.S[1]*u1*v1'\n",
    "\n",
    "i = 2\n",
    "u1 = SVD_V.U[:,i]\n",
    "v1 = SVD_V.V[:,i]\n",
    "img1 += SVD_V.S[i]*u1*v1'\n",
    "\n",
    "i = 3\n",
    "u1 = SVD_V.U[:,i]\n",
    "v1 = SVD_V.V[:,i]\n",
    "img1 += SVD_V.S[i]*u1*v1'\n",
    "\n",
    "i = 4\n",
    "u1 = SVD_V.U[:,i]\n",
    "v1 = SVD_V.V[:,i]\n",
    "img1 += SVD_V.S[i]*u1*v1'"
   ]
  },
  {
   "cell_type": "code",
   "execution_count": null,
   "id": "d40a0e54",
   "metadata": {},
   "outputs": [],
   "source": [
    "Gray.(img1)"
   ]
  },
  {
   "cell_type": "code",
   "execution_count": null,
   "id": "adb11421",
   "metadata": {},
   "outputs": [],
   "source": [
    "i = 1:100\n",
    "u1 = SVD_V.U[:,i]\n",
    "v1 = SVD_V.V[:,i]\n",
    "img1 = u1*spdiagm(0=>SVD_V.S[i])*v1'\n",
    "Gray.(img1)"
   ]
  },
  {
   "cell_type": "code",
   "execution_count": null,
   "id": "c254e841",
   "metadata": {},
   "outputs": [],
   "source": [
    "norm(Xgrayvalues-img1)"
   ]
  },
  {
   "cell_type": "code",
   "execution_count": null,
   "id": "83c28abc",
   "metadata": {},
   "outputs": [],
   "source": [
    "M = matread(\"data/face_recog_qr.mat\")"
   ]
  },
  {
   "cell_type": "code",
   "execution_count": null,
   "id": "b40f3e5a",
   "metadata": {},
   "outputs": [],
   "source": [
    "q = reshape(M[\"V2\"][:,1],192,168)\n",
    "Gray.(q)"
   ]
  },
  {
   "cell_type": "code",
   "execution_count": null,
   "id": "91ddb1e4",
   "metadata": {},
   "outputs": [],
   "source": [
    "b = q[:]"
   ]
  },
  {
   "cell_type": "code",
   "execution_count": null,
   "id": "6a1edee1",
   "metadata": {},
   "outputs": [],
   "source": [
    "A = M[\"V2\"][:,2:end]\n",
    "x = A\\b #Ax=b\n",
    "Gray.(reshape(A*x,192,168))"
   ]
  },
  {
   "cell_type": "code",
   "execution_count": null,
   "id": "513ffc3c",
   "metadata": {},
   "outputs": [],
   "source": [
    "norm(A*x-b)"
   ]
  },
  {
   "cell_type": "code",
   "execution_count": null,
   "id": "d3454f97",
   "metadata": {},
   "outputs": [],
   "source": [
    "qv = q+rand(size(q,1),size(q,2))*0.5\n",
    "qv = qv./maximum(qv)\n",
    "Gray.(qv)"
   ]
  },
  {
   "cell_type": "code",
   "execution_count": null,
   "id": "2e8088c3",
   "metadata": {},
   "outputs": [],
   "source": [
    "b = qv[:];"
   ]
  },
  {
   "cell_type": "code",
   "execution_count": null,
   "id": "1b811f40",
   "metadata": {},
   "outputs": [],
   "source": [
    "x = A\\b\n",
    "norm(A*x-b)"
   ]
  },
  {
   "cell_type": "code",
   "execution_count": null,
   "id": "6c57e26c",
   "metadata": {},
   "outputs": [],
   "source": [
    "Gray.(reshape(A*x,192,168))"
   ]
  },
  {
   "cell_type": "markdown",
   "id": "53540b48",
   "metadata": {},
   "source": [
    "# Finally...\n",
    "### After finishing this notebook, you should be able to:\n",
    "\n",
    "##### [ ] reshape and vectorize a matrix\n",
    "##### [ ] apply basic linear algebra operations such as transpose, matrix-matrix product, and solve a linear systerm\n",
    "##### [ ] call a linear algebra factorization on your matrix\n",
    "##### [ ] use SVD to created a compressed version of an image\n",
    "##### [ ] solve the face recognition problem via a least square approach\n",
    "##### [ ] create a sparse matrix, and call the components of the Compressed Sparse Column storage\n",
    "##### [ ] list a few types of matrices Julia uses (diagonal, upper triangular,...)\n",
    "##### [ ] (unrelated to linear algebra): load an image, convert it to grayscale, and extract the RGB layers"
   ]
  }
 ],
 "metadata": {
  "kernelspec": {
   "display_name": "Julia 1.6.2",
   "language": "julia",
   "name": "julia-1.6"
  },
  "language_info": {
   "file_extension": ".jl",
   "mimetype": "application/julia",
   "name": "julia",
   "version": "1.6.2"
  }
 },
 "nbformat": 4,
 "nbformat_minor": 5
}
